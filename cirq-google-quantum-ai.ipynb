{
 "cells": [
  {
   "cell_type": "code",
   "execution_count": 1,
   "id": "level-nerve",
   "metadata": {
    "_cell_guid": "b1076dfc-b9ad-4769-8c92-a6c4dae69d19",
    "_uuid": "8f2839f25d086af736a60e9eeb907d3b93b6e0e5",
    "execution": {
     "iopub.execute_input": "2021-06-06T06:05:18.370828Z",
     "iopub.status.busy": "2021-06-06T06:05:18.370198Z",
     "iopub.status.idle": "2021-06-06T06:05:43.800862Z",
     "shell.execute_reply": "2021-06-06T06:05:43.801334Z",
     "shell.execute_reply.started": "2021-06-06T05:56:30.687245Z"
    },
    "papermill": {
     "duration": 25.458629,
     "end_time": "2021-06-06T06:05:43.801646",
     "exception": false,
     "start_time": "2021-06-06T06:05:18.343017",
     "status": "completed"
    },
    "tags": []
   },
   "outputs": [
    {
     "name": "stdout",
     "output_type": "stream",
     "text": [
      "Collecting cirq\r\n",
      "  Downloading cirq-0.11.0-py3-none-any.whl (7.6 kB)\r\n",
      "Collecting cirq-core==0.11.0\r\n",
      "  Downloading cirq_core-0.11.0-py3-none-any.whl (1.5 MB)\r\n",
      "\u001b[K     |████████████████████████████████| 1.5 MB 1.1 MB/s \r\n",
      "\u001b[?25hCollecting cirq-google==0.11.0\r\n",
      "  Downloading cirq_google-0.11.0-py3-none-any.whl (380 kB)\r\n",
      "\u001b[K     |████████████████████████████████| 380 kB 6.2 MB/s \r\n",
      "\u001b[?25hRequirement already satisfied: matplotlib~=3.0 in /opt/conda/lib/python3.7/site-packages (from cirq-core==0.11.0->cirq) (3.4.0)\r\n",
      "Requirement already satisfied: networkx~=2.4 in /opt/conda/lib/python3.7/site-packages (from cirq-core==0.11.0->cirq) (2.5)\r\n",
      "Requirement already satisfied: pandas in /opt/conda/lib/python3.7/site-packages (from cirq-core==0.11.0->cirq) (1.2.2)\r\n",
      "Requirement already satisfied: scipy in /opt/conda/lib/python3.7/site-packages (from cirq-core==0.11.0->cirq) (1.5.4)\r\n",
      "Requirement already satisfied: requests~=2.18 in /opt/conda/lib/python3.7/site-packages (from cirq-core==0.11.0->cirq) (2.25.1)\r\n",
      "Requirement already satisfied: sympy in /opt/conda/lib/python3.7/site-packages (from cirq-core==0.11.0->cirq) (1.7.1)\r\n",
      "Requirement already satisfied: typing-extensions in /opt/conda/lib/python3.7/site-packages (from cirq-core==0.11.0->cirq) (3.7.4.3)\r\n",
      "Requirement already satisfied: sortedcontainers~=2.0 in /opt/conda/lib/python3.7/site-packages (from cirq-core==0.11.0->cirq) (2.3.0)\r\n",
      "Requirement already satisfied: numpy~=1.16 in /opt/conda/lib/python3.7/site-packages (from cirq-core==0.11.0->cirq) (1.19.5)\r\n",
      "Requirement already satisfied: tqdm in /opt/conda/lib/python3.7/site-packages (from cirq-core==0.11.0->cirq) (4.56.2)\r\n",
      "Requirement already satisfied: google-api-core[grpc]<2.0.0dev,>=1.14.0 in /opt/conda/lib/python3.7/site-packages (from cirq-google==0.11.0->cirq) (1.22.4)\r\n",
      "Collecting protobuf~=3.13.0\r\n",
      "  Downloading protobuf-3.13.0-cp37-cp37m-manylinux1_x86_64.whl (1.3 MB)\r\n",
      "\u001b[K     |████████████████████████████████| 1.3 MB 6.3 MB/s \r\n",
      "\u001b[?25hRequirement already satisfied: six>=1.13.0 in /opt/conda/lib/python3.7/site-packages (from google-api-core[grpc]<2.0.0dev,>=1.14.0->cirq-google==0.11.0->cirq) (1.15.0)\r\n",
      "Requirement already satisfied: googleapis-common-protos<2.0dev,>=1.6.0 in /opt/conda/lib/python3.7/site-packages (from google-api-core[grpc]<2.0.0dev,>=1.14.0->cirq-google==0.11.0->cirq) (1.52.0)\r\n",
      "Requirement already satisfied: google-auth<2.0dev,>=1.21.1 in /opt/conda/lib/python3.7/site-packages (from google-api-core[grpc]<2.0.0dev,>=1.14.0->cirq-google==0.11.0->cirq) (1.24.0)\r\n",
      "Requirement already satisfied: pytz in /opt/conda/lib/python3.7/site-packages (from google-api-core[grpc]<2.0.0dev,>=1.14.0->cirq-google==0.11.0->cirq) (2021.1)\r\n",
      "Requirement already satisfied: setuptools>=34.0.0 in /opt/conda/lib/python3.7/site-packages (from google-api-core[grpc]<2.0.0dev,>=1.14.0->cirq-google==0.11.0->cirq) (49.6.0.post20210108)\r\n",
      "Requirement already satisfied: grpcio<2.0dev,>=1.29.0 in /opt/conda/lib/python3.7/site-packages (from google-api-core[grpc]<2.0.0dev,>=1.14.0->cirq-google==0.11.0->cirq) (1.32.0)\r\n",
      "Requirement already satisfied: cachetools<5.0,>=2.0.0 in /opt/conda/lib/python3.7/site-packages (from google-auth<2.0dev,>=1.21.1->google-api-core[grpc]<2.0.0dev,>=1.14.0->cirq-google==0.11.0->cirq) (4.2.1)\r\n",
      "Requirement already satisfied: pyasn1-modules>=0.2.1 in /opt/conda/lib/python3.7/site-packages (from google-auth<2.0dev,>=1.21.1->google-api-core[grpc]<2.0.0dev,>=1.14.0->cirq-google==0.11.0->cirq) (0.2.7)\r\n",
      "Requirement already satisfied: rsa<5,>=3.1.4 in /opt/conda/lib/python3.7/site-packages (from google-auth<2.0dev,>=1.21.1->google-api-core[grpc]<2.0.0dev,>=1.14.0->cirq-google==0.11.0->cirq) (4.7.1)\r\n",
      "Requirement already satisfied: kiwisolver>=1.0.1 in /opt/conda/lib/python3.7/site-packages (from matplotlib~=3.0->cirq-core==0.11.0->cirq) (1.3.1)\r\n",
      "Requirement already satisfied: pyparsing>=2.2.1 in /opt/conda/lib/python3.7/site-packages (from matplotlib~=3.0->cirq-core==0.11.0->cirq) (2.4.7)\r\n",
      "Requirement already satisfied: pillow>=6.2.0 in /opt/conda/lib/python3.7/site-packages (from matplotlib~=3.0->cirq-core==0.11.0->cirq) (7.2.0)\r\n",
      "Requirement already satisfied: python-dateutil>=2.7 in /opt/conda/lib/python3.7/site-packages (from matplotlib~=3.0->cirq-core==0.11.0->cirq) (2.8.1)\r\n",
      "Requirement already satisfied: cycler>=0.10 in /opt/conda/lib/python3.7/site-packages (from matplotlib~=3.0->cirq-core==0.11.0->cirq) (0.10.0)\r\n",
      "Requirement already satisfied: decorator>=4.3.0 in /opt/conda/lib/python3.7/site-packages (from networkx~=2.4->cirq-core==0.11.0->cirq) (4.4.2)\r\n",
      "Requirement already satisfied: pyasn1<0.5.0,>=0.4.6 in /opt/conda/lib/python3.7/site-packages (from pyasn1-modules>=0.2.1->google-auth<2.0dev,>=1.21.1->google-api-core[grpc]<2.0.0dev,>=1.14.0->cirq-google==0.11.0->cirq) (0.4.8)\r\n",
      "Requirement already satisfied: certifi>=2017.4.17 in /opt/conda/lib/python3.7/site-packages (from requests~=2.18->cirq-core==0.11.0->cirq) (2020.12.5)\r\n",
      "Requirement already satisfied: idna<3,>=2.5 in /opt/conda/lib/python3.7/site-packages (from requests~=2.18->cirq-core==0.11.0->cirq) (2.10)\r\n",
      "Requirement already satisfied: chardet<5,>=3.0.2 in /opt/conda/lib/python3.7/site-packages (from requests~=2.18->cirq-core==0.11.0->cirq) (3.0.4)\r\n",
      "Requirement already satisfied: urllib3<1.27,>=1.21.1 in /opt/conda/lib/python3.7/site-packages (from requests~=2.18->cirq-core==0.11.0->cirq) (1.26.3)\r\n",
      "Requirement already satisfied: mpmath>=0.19 in /opt/conda/lib/python3.7/site-packages (from sympy->cirq-core==0.11.0->cirq) (1.2.1)\r\n",
      "Installing collected packages: protobuf, cirq-core, cirq-google, cirq\r\n",
      "  Attempting uninstall: protobuf\r\n",
      "    Found existing installation: protobuf 3.15.6\r\n",
      "    Uninstalling protobuf-3.15.6:\r\n",
      "      Successfully uninstalled protobuf-3.15.6\r\n",
      "\u001b[31mERROR: pip's dependency resolver does not currently take into account all the packages that are installed. This behaviour is the source of the following dependency conflicts.\r\n",
      "ortools 8.2.8710 requires protobuf>=3.14.0, but you have protobuf 3.13.0 which is incompatible.\r\n",
      "matrixprofile 1.1.10 requires protobuf==3.11.2, but you have protobuf 3.13.0 which is incompatible.\u001b[0m\r\n",
      "Successfully installed cirq-0.11.0 cirq-core-0.11.0 cirq-google-0.11.0 protobuf-3.13.0\r\n",
      "Note: you may need to restart the kernel to use updated packages.\n"
     ]
    }
   ],
   "source": [
    "pip install cirq"
   ]
  },
  {
   "cell_type": "code",
   "execution_count": 2,
   "id": "demonstrated-approach",
   "metadata": {
    "execution": {
     "iopub.execute_input": "2021-06-06T06:05:43.874782Z",
     "iopub.status.busy": "2021-06-06T06:05:43.874118Z",
     "iopub.status.idle": "2021-06-06T06:05:46.165574Z",
     "shell.execute_reply": "2021-06-06T06:05:46.164722Z",
     "shell.execute_reply.started": "2021-06-06T05:57:00.469006Z"
    },
    "papermill": {
     "duration": 2.329975,
     "end_time": "2021-06-06T06:05:46.165753",
     "exception": false,
     "start_time": "2021-06-06T06:05:43.835778",
     "status": "completed"
    },
    "tags": []
   },
   "outputs": [
    {
     "name": "stdout",
     "output_type": "stream",
     "text": [
      "(0, 0)───(0, 1)───(0, 2)───(0, 3)───(0, 4)───(0, 5)───(0, 6)───(0, 7)───(0, 8)───(0, 9)───(0, 10)\n",
      "│        │        │        │        │        │        │        │        │        │        │\n",
      "│        │        │        │        │        │        │        │        │        │        │\n",
      "(1, 0)───(1, 1)───(1, 2)───(1, 3)───(1, 4)───(1, 5)───(1, 6)───(1, 7)───(1, 8)───(1, 9)───(1, 10)\n"
     ]
    },
    {
     "name": "stderr",
     "output_type": "stream",
     "text": [
      "/opt/conda/lib/python3.7/site-packages/ipykernel_launcher.py:1: DeprecationWarning: cirq.google was used but is deprecated.\n",
      " it will be removed in cirq v0.14.\n",
      " Use cirq_google instead.\n",
      "\n",
      "  \"\"\"Entry point for launching an IPython kernel.\n"
     ]
    }
   ],
   "source": [
    "import cirq; print(cirq.google.Foxtail)"
   ]
  },
  {
   "cell_type": "code",
   "execution_count": 3,
   "id": "mighty-kelly",
   "metadata": {
    "execution": {
     "iopub.execute_input": "2021-06-06T06:05:46.244384Z",
     "iopub.status.busy": "2021-06-06T06:05:46.243759Z",
     "iopub.status.idle": "2021-06-06T06:05:46.246650Z",
     "shell.execute_reply": "2021-06-06T06:05:46.246004Z",
     "shell.execute_reply.started": "2021-06-06T05:57:34.134438Z"
    },
    "papermill": {
     "duration": 0.043128,
     "end_time": "2021-06-06T06:05:46.246782",
     "exception": false,
     "start_time": "2021-06-06T06:05:46.203654",
     "status": "completed"
    },
    "tags": []
   },
   "outputs": [],
   "source": [
    "# Example gates\n",
    "not_gate = cirq.CNOT\n",
    "pauli_z = cirq.Z\n",
    "\n",
    "# Using exponentiation to get square root gates\n",
    "sqrt_x_gate = cirq.X**0.5\n",
    "sqrt_iswap = cirq.ISWAP**0.5\n",
    "\n",
    "# Some gates can also take parameters\n",
    "sqrt_sqrt_y = cirq.YPowGate(exponent=0.25)\n",
    "\n",
    "# Example operations\n",
    "q0, q1 = cirq.LineQubit.range(2)\n",
    "z_op = cirq.Z(q0)\n",
    "not_op = cirq.CNOT(q0, q1)\n",
    "sqrt_iswap_op = sqrt_iswap(q0, q1)"
   ]
  },
  {
   "cell_type": "code",
   "execution_count": 4,
   "id": "acting-connection",
   "metadata": {
    "execution": {
     "iopub.execute_input": "2021-06-06T06:05:46.321947Z",
     "iopub.status.busy": "2021-06-06T06:05:46.321247Z",
     "iopub.status.idle": "2021-06-06T06:05:46.325232Z",
     "shell.execute_reply": "2021-06-06T06:05:46.324399Z",
     "shell.execute_reply.started": "2021-06-06T05:57:50.315099Z"
    },
    "papermill": {
     "duration": 0.044672,
     "end_time": "2021-06-06T06:05:46.325430",
     "exception": false,
     "start_time": "2021-06-06T06:05:46.280758",
     "status": "completed"
    },
    "tags": []
   },
   "outputs": [
    {
     "name": "stdout",
     "output_type": "stream",
     "text": [
      "0: ───H───\n",
      "\n",
      "1: ───H───\n",
      "\n",
      "2: ───H───\n"
     ]
    }
   ],
   "source": [
    "circuit = cirq.Circuit()\n",
    "# You can create a circuit by appending to it\n",
    "circuit.append(cirq.H(q) for q in cirq.LineQubit.range(3))\n",
    "# All of the gates are put into the same Moment since none overlap\n",
    "print(circuit)"
   ]
  },
  {
   "cell_type": "code",
   "execution_count": 5,
   "id": "detailed-government",
   "metadata": {
    "execution": {
     "iopub.execute_input": "2021-06-06T06:05:46.403268Z",
     "iopub.status.busy": "2021-06-06T06:05:46.402582Z",
     "iopub.status.idle": "2021-06-06T06:05:46.405922Z",
     "shell.execute_reply": "2021-06-06T06:05:46.406375Z",
     "shell.execute_reply.started": "2021-06-06T05:58:09.080492Z"
    },
    "papermill": {
     "duration": 0.045717,
     "end_time": "2021-06-06T06:05:46.406547",
     "exception": false,
     "start_time": "2021-06-06T06:05:46.360830",
     "status": "completed"
    },
    "tags": []
   },
   "outputs": [
    {
     "name": "stdout",
     "output_type": "stream",
     "text": [
      "0: ───×───────────\n",
      "      │\n",
      "1: ───×───×───────\n",
      "          │\n",
      "2: ───────×───×───\n",
      "              │\n",
      "3: ───────────×───\n"
     ]
    }
   ],
   "source": [
    "# We can also create a circuit directly as well:\n",
    "print(cirq.Circuit(cirq.SWAP(q, q+1) for q in cirq.LineQubit.range(3)))"
   ]
  },
  {
   "cell_type": "code",
   "execution_count": 6,
   "id": "fuzzy-mexican",
   "metadata": {
    "execution": {
     "iopub.execute_input": "2021-06-06T06:05:46.489324Z",
     "iopub.status.busy": "2021-06-06T06:05:46.483061Z",
     "iopub.status.idle": "2021-06-06T06:05:46.644886Z",
     "shell.execute_reply": "2021-06-06T06:05:46.644397Z",
     "shell.execute_reply.started": "2021-06-06T05:58:17.620557Z"
    },
    "papermill": {
     "duration": 0.204234,
     "end_time": "2021-06-06T06:05:46.645085",
     "exception": false,
     "start_time": "2021-06-06T06:05:46.440851",
     "status": "completed"
    },
    "tags": []
   },
   "outputs": [
    {
     "name": "stdout",
     "output_type": "stream",
     "text": [
      "Unconstrained device:\n",
      "(0, 0): ───@───@───\n",
      "           │   │\n",
      "(0, 1): ───@───┼───\n",
      "               │\n",
      "(0, 2): ───────@───\n",
      "\n",
      "Foxtail device:\n"
     ]
    },
    {
     "ename": "NameError",
     "evalue": "name 'cirq_google' is not defined",
     "output_type": "error",
     "traceback": [
      "\u001b[0;31m---------------------------------------------------------------------------\u001b[0m",
      "\u001b[0;31mNameError\u001b[0m                                 Traceback (most recent call last)",
      "\u001b[0;32m<ipython-input-6-c61002e22789>\u001b[0m in \u001b[0;36m<module>\u001b[0;34m\u001b[0m\n\u001b[1;32m     17\u001b[0m \u001b[0;31m# only adjacent operations are allowed.\u001b[0m\u001b[0;34m\u001b[0m\u001b[0;34m\u001b[0m\u001b[0;34m\u001b[0m\u001b[0m\n\u001b[1;32m     18\u001b[0m \u001b[0mprint\u001b[0m\u001b[0;34m(\u001b[0m\u001b[0;34m'Foxtail device:'\u001b[0m\u001b[0;34m)\u001b[0m\u001b[0;34m\u001b[0m\u001b[0;34m\u001b[0m\u001b[0m\n\u001b[0;32m---> 19\u001b[0;31m \u001b[0mfoxtail_circuit\u001b[0m \u001b[0;34m=\u001b[0m \u001b[0mcirq\u001b[0m\u001b[0;34m.\u001b[0m\u001b[0mCircuit\u001b[0m\u001b[0;34m(\u001b[0m\u001b[0mdevice\u001b[0m\u001b[0;34m=\u001b[0m\u001b[0mcirq_google\u001b[0m\u001b[0;34m.\u001b[0m\u001b[0mFoxtail\u001b[0m\u001b[0;34m)\u001b[0m\u001b[0;34m\u001b[0m\u001b[0;34m\u001b[0m\u001b[0m\n\u001b[0m\u001b[1;32m     20\u001b[0m \u001b[0mfoxtail_circuit\u001b[0m\u001b[0;34m.\u001b[0m\u001b[0mappend\u001b[0m\u001b[0;34m(\u001b[0m\u001b[0madjacent_op\u001b[0m\u001b[0;34m)\u001b[0m\u001b[0;34m\u001b[0m\u001b[0;34m\u001b[0m\u001b[0m\n\u001b[1;32m     21\u001b[0m \u001b[0;32mtry\u001b[0m\u001b[0;34m:\u001b[0m\u001b[0;34m\u001b[0m\u001b[0;34m\u001b[0m\u001b[0m\n",
      "\u001b[0;31mNameError\u001b[0m: name 'cirq_google' is not defined"
     ]
    }
   ],
   "source": [
    "q0 = cirq.GridQubit(0, 0)\n",
    "q1 = cirq.GridQubit(0, 1)\n",
    "q2 = cirq.GridQubit(0, 2)\n",
    "adjacent_op = cirq.CZ(q0, q1)\n",
    "nonadjacent_op = cirq.CZ(q0, q2)\n",
    "\n",
    "# This is an unconstrained circuit with no device\n",
    "free_circuit = cirq.Circuit()\n",
    "# Both operations are allowed:\n",
    "free_circuit.append(adjacent_op)\n",
    "free_circuit.append(nonadjacent_op)\n",
    "print('Unconstrained device:')\n",
    "print(free_circuit)\n",
    "print()\n",
    "\n",
    "# This is a circuit on the Foxtail device\n",
    "# only adjacent operations are allowed.\n",
    "print('Foxtail device:')\n",
    "foxtail_circuit = cirq.Circuit(device=cirq_google.Foxtail)\n",
    "foxtail_circuit.append(adjacent_op)\n",
    "try:\n",
    "    # Not allowed, will throw exception\n",
    "    foxtail_circuit.append(nonadjacent_op)\n",
    "except ValueError as e:\n",
    "    print('Not allowed. %s' % e)"
   ]
  },
  {
   "cell_type": "code",
   "execution_count": 7,
   "id": "native-transcription",
   "metadata": {
    "execution": {
     "iopub.execute_input": "2021-06-06T06:05:46.734059Z",
     "iopub.status.busy": "2021-06-06T06:05:46.733409Z",
     "iopub.status.idle": "2021-06-06T06:05:48.522752Z",
     "shell.execute_reply": "2021-06-06T06:05:48.522115Z",
     "shell.execute_reply.started": "2021-06-06T05:58:30.792470Z"
    },
    "papermill": {
     "duration": 1.842661,
     "end_time": "2021-06-06T06:05:48.522897",
     "exception": false,
     "start_time": "2021-06-06T06:05:46.680236",
     "status": "completed"
    },
    "tags": []
   },
   "outputs": [
    {
     "data": {
      "text/plain": [
       "<matplotlib.collections.PathCollection at 0x7f33ed01ecd0>"
      ]
     },
     "execution_count": 7,
     "metadata": {},
     "output_type": "execute_result"
    },
    {
     "data": {
      "image/png": "[encoded data removed]",
      "text/plain": [
       "<Figure size 432x288 with 1 Axes>"
      ]
     },
     "metadata": {
      "needs_background": "light"
     },
     "output_type": "display_data"
    }
   ],
   "source": [
    "import matplotlib.pyplot as plt\n",
    "import sympy\n",
    "\n",
    "# Perform an X gate with variable exponent\n",
    "q = cirq.GridQubit(1,1)\n",
    "circuit = cirq.Circuit(cirq.X(q) ** sympy.Symbol('t'),\n",
    "                       cirq.measure(q, key='m'))\n",
    "\n",
    "# Sweep exponent from zero (off) to one (on) and back to two (off)\n",
    "param_sweep = cirq.Linspace('t', start=0, stop=2, length=200)\n",
    "\n",
    "# Simulate the sweep\n",
    "s = cirq.Simulator()\n",
    "trials = s.run_sweep(circuit, param_sweep, repetitions=1000)\n",
    "\n",
    "# Plot all the results\n",
    "x_data = [trial.params['t'] for trial in trials]\n",
    "y_data = [trial.histogram(key='m')[1] / 1000.0 for trial in trials]\n",
    "plt.scatter('t','p', data={'t': x_data, 'p': y_data})"
   ]
  },
  {
   "cell_type": "code",
   "execution_count": 8,
   "id": "adequate-arnold",
   "metadata": {
    "execution": {
     "iopub.execute_input": "2021-06-06T06:05:48.604631Z",
     "iopub.status.busy": "2021-06-06T06:05:48.603250Z",
     "iopub.status.idle": "2021-06-06T06:05:48.609487Z",
     "shell.execute_reply": "2021-06-06T06:05:48.610492Z",
     "shell.execute_reply.started": "2021-06-06T05:59:25.858659Z"
    },
    "papermill": {
     "duration": 0.05096,
     "end_time": "2021-06-06T06:05:48.610781",
     "exception": false,
     "start_time": "2021-06-06T06:05:48.559821",
     "status": "completed"
    },
    "tags": []
   },
   "outputs": [
    {
     "name": "stdout",
     "output_type": "stream",
     "text": [
      "The walker is located at: x = 18\n"
     ]
    }
   ],
   "source": [
    "import numpy as np\n",
    "# Defines all of the necessary parameters\n",
    "\n",
    "N = 50    # Defines the total number of steps our walker will take\n",
    "pr = 0.5  # Defines the probability of our walker stepping to the right\n",
    "i = 0     # Defines the initial position of our walker\n",
    "\n",
    "def random_walk(pr, N, i):\n",
    "\n",
    "    position = i\n",
    "\n",
    "    # Repeatedly queries our random variable and moves our walker for the specified number of steps\n",
    "\n",
    "    for j in range(0, N): \n",
    "\n",
    "        coin_flip = list(np.random.choice(2, 1, p=[1-pr, pr])) # Flips our weighted coin\n",
    "        position += 2*coin_flip[0]-1 # Moves our walker according to the coin flip \n",
    "\n",
    "    return position\n",
    "\n",
    "print(\"The walker is located at: x = {var}\".format(var = random_walk(pr, N, i)))"
   ]
  },
  {
   "cell_type": "code",
   "execution_count": 9,
   "id": "criminal-potential",
   "metadata": {
    "execution": {
     "iopub.execute_input": "2021-06-06T06:05:48.699804Z",
     "iopub.status.busy": "2021-06-06T06:05:48.691547Z",
     "iopub.status.idle": "2021-06-06T06:06:11.645529Z",
     "shell.execute_reply": "2021-06-06T06:06:11.644975Z",
     "shell.execute_reply.started": "2021-06-06T05:59:35.919113Z"
    },
    "papermill": {
     "duration": 22.996913,
     "end_time": "2021-06-06T06:06:11.645673",
     "exception": false,
     "start_time": "2021-06-06T06:05:48.648760",
     "status": "completed"
    },
    "tags": []
   },
   "outputs": [
    {
     "data": {
      "image/png": "[encoded data removed]",
      "text/plain": [
       "<Figure size 432x288 with 1 Axes>"
      ]
     },
     "metadata": {
      "needs_background": "light"
     },
     "output_type": "display_data"
    }
   ],
   "source": [
    "def dist(runs, N):\n",
    "\n",
    "    positions = range(-1*N, N+1)\n",
    "    instances = [0 for i in range(-1*N, N+1)]\n",
    "\n",
    "    for k in range(0, runs):\n",
    "\n",
    "        result = random_walk(pr, N, i)\n",
    "        instances[positions.index(result)] += 1\n",
    "\n",
    "    plt.bar(positions, [n/runs for n in instances])\n",
    "    plt.show()\n",
    "\n",
    "dist(10000, N)"
   ]
  },
  {
   "cell_type": "code",
   "execution_count": 10,
   "id": "spiritual-rolling",
   "metadata": {
    "execution": {
     "iopub.execute_input": "2021-06-06T06:06:11.730980Z",
     "iopub.status.busy": "2021-06-06T06:06:11.729982Z",
     "iopub.status.idle": "2021-06-06T06:06:12.034205Z",
     "shell.execute_reply": "2021-06-06T06:06:12.034727Z",
     "shell.execute_reply.started": "2021-06-06T06:00:28.691117Z"
    },
    "papermill": {
     "duration": 0.351717,
     "end_time": "2021-06-06T06:06:12.034902",
     "exception": false,
     "start_time": "2021-06-06T06:06:11.683185",
     "status": "completed"
    },
    "tags": []
   },
   "outputs": [
    {
     "data": {
      "image/png": "[encoded data removed]",
      "text/plain": [
       "<Figure size 432x288 with 1 Axes>"
      ]
     },
     "metadata": {
      "needs_background": "light"
     },
     "output_type": "display_data"
    }
   ],
   "source": [
    "import scipy\n",
    "def height_calculate(x, N, pr):\n",
    "\n",
    "    a = (N + x)/2\n",
    "    b = (N - x)/2\n",
    "\n",
    "    if (x%2 == 0):\n",
    "        var = scipy.special.binom(N, a)*(pr**a)*((1-pr)**b)\n",
    "    else:\n",
    "        var = 0\n",
    "    return var\n",
    "\n",
    "positions = range(-1*N, N+1)\n",
    "heights = [height_calculate(x, N, pr) for x in positions]\n",
    "plt.bar(positions, heights)\n",
    "plt.show()"
   ]
  },
  {
   "cell_type": "code",
   "execution_count": 11,
   "id": "sitting-harrison",
   "metadata": {
    "execution": {
     "iopub.execute_input": "2021-06-06T06:06:12.113295Z",
     "iopub.status.busy": "2021-06-06T06:06:12.112324Z",
     "iopub.status.idle": "2021-06-06T06:06:51.985251Z",
     "shell.execute_reply": "2021-06-06T06:06:51.985821Z",
     "shell.execute_reply.started": "2021-06-06T06:00:34.657116Z"
    },
    "papermill": {
     "duration": 39.913901,
     "end_time": "2021-06-06T06:06:51.986000",
     "exception": false,
     "start_time": "2021-06-06T06:06:12.072099",
     "status": "completed"
    },
    "tags": []
   },
   "outputs": [
    {
     "data": {
      "image/png": "[encoded data removed]",
      "text/plain": [
       "<Figure size 432x288 with 1 Axes>"
      ]
     },
     "metadata": {
      "needs_background": "light"
     },
     "output_type": "display_data"
    },
    {
     "data": {
      "image/png": "[encoded data removed]",
      "text/plain": [
       "<Figure size 432x288 with 1 Axes>"
      ]
     },
     "metadata": {
      "needs_background": "light"
     },
     "output_type": "display_data"
    },
    {
     "data": {
      "image/png": "[encoded data removed]",
      "text/plain": [
       "<Figure size 432x288 with 1 Axes>"
      ]
     },
     "metadata": {
      "needs_background": "light"
     },
     "output_type": "display_data"
    },
    {
     "data": {
      "image/png": "[encoded data removed]",
      "text/plain": [
       "<Figure size 432x288 with 1 Axes>"
      ]
     },
     "metadata": {
      "needs_background": "light"
     },
     "output_type": "display_data"
    },
    {
     "data": {
      "image/png": "[encoded data removed]",
      "text/plain": [
       "<Figure size 432x288 with 1 Axes>"
      ]
     },
     "metadata": {
      "needs_background": "light"
     },
     "output_type": "display_data"
    },
    {
     "data": {
      "image/png": "[encoded data removed]",
      "text/plain": [
       "<Figure size 432x288 with 1 Axes>"
      ]
     },
     "metadata": {
      "needs_background": "light"
     },
     "output_type": "display_data"
    }
   ],
   "source": [
    "run_range = [50, 100, 500, 1000, 5000, 10000]\n",
    "for run in run_range:\n",
    "    dist(run, N)"
   ]
  },
  {
   "cell_type": "code",
   "execution_count": 12,
   "id": "electric-colon",
   "metadata": {
    "execution": {
     "iopub.execute_input": "2021-06-06T06:06:52.073304Z",
     "iopub.status.busy": "2021-06-06T06:06:52.072670Z",
     "iopub.status.idle": "2021-06-06T06:06:52.078797Z",
     "shell.execute_reply": "2021-06-06T06:06:52.079311Z",
     "shell.execute_reply.started": "2021-06-06T06:02:05.573096Z"
    },
    "papermill": {
     "duration": 0.051831,
     "end_time": "2021-06-06T06:06:52.079523",
     "exception": false,
     "start_time": "2021-06-06T06:06:52.027692",
     "status": "completed"
    },
    "tags": []
   },
   "outputs": [],
   "source": [
    "import fractions\n",
    "import math\n",
    "import random\n",
    "\n",
    "import numpy as np\n",
    "import sympy\n",
    "from typing import Callable, List, Optional, Sequence, Union\n",
    "\n",
    "import cirq"
   ]
  },
  {
   "cell_type": "code",
   "execution_count": 13,
   "id": "ancient-outline",
   "metadata": {
    "execution": {
     "iopub.execute_input": "2021-06-06T06:06:52.167690Z",
     "iopub.status.busy": "2021-06-06T06:06:52.166970Z",
     "iopub.status.idle": "2021-06-06T06:06:52.175987Z",
     "shell.execute_reply": "2021-06-06T06:06:52.175396Z",
     "shell.execute_reply.started": "2021-06-06T06:02:13.022688Z"
    },
    "papermill": {
     "duration": 0.054325,
     "end_time": "2021-06-06T06:06:52.176139",
     "exception": false,
     "start_time": "2021-06-06T06:06:52.121814",
     "status": "completed"
    },
    "tags": []
   },
   "outputs": [],
   "source": [
    "\"\"\"Function to compute the elements of Z_n.\"\"\"\n",
    "def multiplicative_group(n: int) -> List[int]:\n",
    "    \"\"\"Returns the multiplicative group modulo n.\n",
    "\n",
    "    Args:\n",
    "        n: Modulus of the multiplicative group.\n",
    "    \"\"\"\n",
    "    assert n > 1\n",
    "    group = [1]\n",
    "    for x in range(2, n):\n",
    "        if math.gcd(x, n) == 1:\n",
    "            group.append(x)\n",
    "    return group"
   ]
  },
  {
   "cell_type": "code",
   "execution_count": 14,
   "id": "played-proposal",
   "metadata": {
    "execution": {
     "iopub.execute_input": "2021-06-06T06:06:52.266472Z",
     "iopub.status.busy": "2021-06-06T06:06:52.265809Z",
     "iopub.status.idle": "2021-06-06T06:06:52.271418Z",
     "shell.execute_reply": "2021-06-06T06:06:52.272151Z",
     "shell.execute_reply.started": "2021-06-06T06:02:20.562509Z"
    },
    "papermill": {
     "duration": 0.054501,
     "end_time": "2021-06-06T06:06:52.272415",
     "exception": false,
     "start_time": "2021-06-06T06:06:52.217914",
     "status": "completed"
    },
    "tags": []
   },
   "outputs": [
    {
     "name": "stdout",
     "output_type": "stream",
     "text": [
      "The multiplicative group modulo n = 15 is:\n",
      "[1, 2, 4, 7, 8, 11, 13, 14]\n"
     ]
    }
   ],
   "source": [
    "\"\"\"Example of a multiplicative group.\"\"\"\n",
    "n = 15\n",
    "print(f\"The multiplicative group modulo n = {n} is:\")\n",
    "print(multiplicative_group(n))"
   ]
  },
  {
   "cell_type": "code",
   "execution_count": 15,
   "id": "upset-investment",
   "metadata": {
    "execution": {
     "iopub.execute_input": "2021-06-06T06:06:52.363655Z",
     "iopub.status.busy": "2021-06-06T06:06:52.362977Z",
     "iopub.status.idle": "2021-06-06T06:06:52.368898Z",
     "shell.execute_reply": "2021-06-06T06:06:52.369499Z",
     "shell.execute_reply.started": "2021-06-06T06:02:33.752822Z"
    },
    "papermill": {
     "duration": 0.054298,
     "end_time": "2021-06-06T06:06:52.369700",
     "exception": false,
     "start_time": "2021-06-06T06:06:52.315402",
     "status": "completed"
    },
    "tags": []
   },
   "outputs": [],
   "source": [
    "\"\"\"Function for classically computing the order of an element of Z_n.\"\"\"\n",
    "def classical_order_finder(x: int, n: int) -> Optional[int]:\n",
    "    \"\"\"Computes smallest positive r such that x**r mod n == 1.\n",
    "\n",
    "    Args:\n",
    "        x: Integer whose order is to be computed, must be greater than one\n",
    "           and belong to the multiplicative group of integers modulo n (which\n",
    "           consists of positive integers relatively prime to n),\n",
    "        n: Modulus of the multiplicative group.\n",
    "\n",
    "    Returns:\n",
    "        Smallest positive integer r such that x**r == 1 mod n.\n",
    "        Always succeeds (and hence never returns None).\n",
    "\n",
    "    Raises:\n",
    "        ValueError when x is 1 or not an element of the multiplicative\n",
    "        group of integers modulo n.\n",
    "    \"\"\"\n",
    "    # Make sure x is both valid and in Z_n.\n",
    "    if x < 2 or x >= n or math.gcd(x, n) > 1:\n",
    "        raise ValueError(f\"Invalid x={x} for modulus n={n}.\")\n",
    "\n",
    "    # Determine the order.\n",
    "    r, y = 1, x\n",
    "    while y != 1:\n",
    "        y = (x * y) % n\n",
    "        r += 1\n",
    "    return r"
   ]
  },
  {
   "cell_type": "code",
   "execution_count": 16,
   "id": "amazing-agenda",
   "metadata": {
    "execution": {
     "iopub.execute_input": "2021-06-06T06:06:52.458596Z",
     "iopub.status.busy": "2021-06-06T06:06:52.458003Z",
     "iopub.status.idle": "2021-06-06T06:06:52.463884Z",
     "shell.execute_reply": "2021-06-06T06:06:52.464629Z",
     "shell.execute_reply.started": "2021-06-06T06:02:40.699049Z"
    },
    "papermill": {
     "duration": 0.052125,
     "end_time": "2021-06-06T06:06:52.464861",
     "exception": false,
     "start_time": "2021-06-06T06:06:52.412736",
     "status": "completed"
    },
    "tags": []
   },
   "outputs": [
    {
     "name": "stdout",
     "output_type": "stream",
     "text": [
      "x^r mod n = 8^4 mod 15 = 1\n"
     ]
    }
   ],
   "source": [
    "\"\"\"Example of (classically) computing the order of an element.\"\"\"\n",
    "n = 15  # The multiplicative group is [1, 2, 4, 7, 8, 11, 13, 14].\n",
    "x = 8\n",
    "r = classical_order_finder(x, n)\n",
    "\n",
    "# Check that the order is indeed correct.\n",
    "print(f\"x^r mod n = {x}^{r} mod {n} = {x**r % n}\")"
   ]
  },
  {
   "cell_type": "code",
   "execution_count": 17,
   "id": "superior-genesis",
   "metadata": {
    "execution": {
     "iopub.execute_input": "2021-06-06T06:06:52.557794Z",
     "iopub.status.busy": "2021-06-06T06:06:52.557026Z",
     "iopub.status.idle": "2021-06-06T06:06:52.560203Z",
     "shell.execute_reply": "2021-06-06T06:06:52.559574Z",
     "shell.execute_reply.started": "2021-06-06T06:02:52.242641Z"
    },
    "papermill": {
     "duration": 0.052411,
     "end_time": "2021-06-06T06:06:52.560337",
     "exception": false,
     "start_time": "2021-06-06T06:06:52.507926",
     "status": "completed"
    },
    "tags": []
   },
   "outputs": [],
   "source": [
    "\"\"\"Example of defining an arithmetic (quantum) operation in Cirq.\"\"\"\n",
    "class Adder(cirq.ArithmeticOperation):\n",
    "    \"\"\"Quantum addition.\"\"\"\n",
    "    def __init__(self, target_register, input_register):\n",
    "        self.input_register = input_register\n",
    "        self.target_register = target_register\n",
    "\n",
    "    def registers(self):\n",
    "        return self.target_register, self.input_register\n",
    "\n",
    "    def with_registers(self, *new_registers):\n",
    "        return Adder(*new_registers)\n",
    "\n",
    "    def apply(self, target_value, input_value):\n",
    "        return target_value + input_value"
   ]
  },
  {
   "cell_type": "code",
   "execution_count": 18,
   "id": "million-apparatus",
   "metadata": {
    "execution": {
     "iopub.execute_input": "2021-06-06T06:06:52.661596Z",
     "iopub.status.busy": "2021-06-06T06:06:52.660906Z",
     "iopub.status.idle": "2021-06-06T06:06:52.685271Z",
     "shell.execute_reply": "2021-06-06T06:06:52.685753Z",
     "shell.execute_reply.started": "2021-06-06T06:03:01.146853Z"
    },
    "papermill": {
     "duration": 0.082971,
     "end_time": "2021-06-06T06:06:52.685933",
     "exception": false,
     "start_time": "2021-06-06T06:06:52.602962",
     "status": "completed"
    },
    "tags": []
   },
   "outputs": [
    {
     "name": "stdout",
     "output_type": "stream",
     "text": [
      "Circuit:\n",
      "\n",
      "0: ───X───#3──────────────────────────────────────────M───\n",
      "          │\n",
      "1: ───────#4──────────────────────────────────────────M───\n",
      "          │\n",
      "2: ───────<__main__.Adder object at 0x7f33ec833e90>───M───\n",
      "          │\n",
      "3: ───X───#2──────────────────────────────────────────M───\n",
      "\n",
      "\n",
      "Measurement outcomes:\n",
      "\n",
      "   0  1  2  3\n",
      "0  1  0  1  1\n",
      "1  1  0  1  1\n",
      "2  1  0  1  1\n",
      "3  1  0  1  1\n",
      "4  1  0  1  1\n"
     ]
    }
   ],
   "source": [
    "\"\"\"Example of using an Adder in a circuit.\"\"\"\n",
    "# Two qubit registers.\n",
    "qreg1 = cirq.LineQubit.range(2)\n",
    "qreg2 = cirq.LineQubit.range(2, 4)\n",
    "\n",
    "# Define the circuit.\n",
    "circ = cirq.Circuit(\n",
    "    cirq.ops.X.on(qreg1[0]),\n",
    "    cirq.ops.X.on(qreg2[1]),\n",
    "    Adder(input_register=qreg1, target_register=qreg2),\n",
    "    cirq.measure_each(*qreg1),\n",
    "    cirq.measure_each(*qreg2)\n",
    ")\n",
    "\n",
    "# Display it.\n",
    "print(\"Circuit:\\n\")\n",
    "print(circ)\n",
    "\n",
    "# Print the measurement outcomes.\n",
    "print(\"\\n\\nMeasurement outcomes:\\n\")\n",
    "print(cirq.sample(circ, repetitions=5).data)"
   ]
  },
  {
   "cell_type": "code",
   "execution_count": 19,
   "id": "automotive-beach",
   "metadata": {
    "execution": {
     "iopub.execute_input": "2021-06-06T06:06:52.781838Z",
     "iopub.status.busy": "2021-06-06T06:06:52.781047Z",
     "iopub.status.idle": "2021-06-06T06:06:52.785258Z",
     "shell.execute_reply": "2021-06-06T06:06:52.784671Z",
     "shell.execute_reply.started": "2021-06-06T06:03:14.957609Z"
    },
    "papermill": {
     "duration": 0.052882,
     "end_time": "2021-06-06T06:06:52.785419",
     "exception": false,
     "start_time": "2021-06-06T06:06:52.732537",
     "status": "completed"
    },
    "tags": []
   },
   "outputs": [
    {
     "data": {
      "text/plain": [
       "array([[0., 0., 0., 1.],\n",
       "       [1., 0., 0., 0.],\n",
       "       [0., 1., 0., 0.],\n",
       "       [0., 0., 1., 0.]])"
      ]
     },
     "execution_count": 19,
     "metadata": {},
     "output_type": "execute_result"
    }
   ],
   "source": [
    "\"\"\"Example of the unitary of an Adder operation.\"\"\"\n",
    "cirq.unitary(\n",
    "    Adder(target_register=cirq.LineQubit.range(2),\n",
    "          input_register=1)\n",
    ").real"
   ]
  },
  {
   "cell_type": "code",
   "execution_count": 20,
   "id": "conventional-alias",
   "metadata": {
    "execution": {
     "iopub.execute_input": "2021-06-06T06:06:52.887938Z",
     "iopub.status.busy": "2021-06-06T06:06:52.887211Z",
     "iopub.status.idle": "2021-06-06T06:06:52.890409Z",
     "shell.execute_reply": "2021-06-06T06:06:52.889871Z",
     "shell.execute_reply.started": "2021-06-06T06:03:26.601176Z"
    },
    "papermill": {
     "duration": 0.062647,
     "end_time": "2021-06-06T06:06:52.890543",
     "exception": false,
     "start_time": "2021-06-06T06:06:52.827896",
     "status": "completed"
    },
    "tags": []
   },
   "outputs": [],
   "source": [
    "\"\"\"Defines the modular exponential operation used in Shor's algorithm.\"\"\"\n",
    "class ModularExp(cirq.ArithmeticOperation):\n",
    "    \"\"\"Quantum modular exponentiation.\n",
    "\n",
    "    This class represents the unitary which multiplies base raised to exponent\n",
    "    into the target modulo the given modulus. More precisely, it represents the\n",
    "    unitary V which computes modular exponentiation x**e mod n:\n",
    "\n",
    "        V|y⟩|e⟩ = |y * x**e mod n⟩ |e⟩     0 <= y < n\n",
    "        V|y⟩|e⟩ = |y⟩ |e⟩                  n <= y\n",
    "\n",
    "    where y is the target register, e is the exponent register, x is the base\n",
    "    and n is the modulus. Consequently,\n",
    "\n",
    "        V|y⟩|e⟩ = (U**e|y)|e⟩\n",
    "\n",
    "    where U is the unitary defined as\n",
    "\n",
    "        U|y⟩ = |y * x mod n⟩      0 <= y < n\n",
    "        U|y⟩ = |y⟩                n <= y\n",
    "    \"\"\"\n",
    "    def __init__(\n",
    "        self, \n",
    "        target: Sequence[cirq.Qid],\n",
    "        exponent: Union[int, Sequence[cirq.Qid]], \n",
    "        base: int,\n",
    "        modulus: int\n",
    "    ) -> None:\n",
    "        if len(target) < modulus.bit_length():\n",
    "            raise ValueError(f'Register with {len(target)} qubits is too small '\n",
    "                             f'for modulus {modulus}')\n",
    "        self.target = target\n",
    "        self.exponent = exponent\n",
    "        self.base = base\n",
    "        self.modulus = modulus\n",
    "\n",
    "    def registers(self) -> Sequence[Union[int, Sequence[cirq.Qid]]]:\n",
    "        return self.target, self.exponent, self.base, self.modulus\n",
    "\n",
    "    def with_registers(\n",
    "            self,\n",
    "            *new_registers: Union[int, Sequence['cirq.Qid']],\n",
    "    ) -> cirq.ArithmeticOperation:\n",
    "        if len(new_registers) != 4:\n",
    "            raise ValueError(f'Expected 4 registers (target, exponent, base, '\n",
    "                             f'modulus), but got {len(new_registers)}')\n",
    "        target, exponent, base, modulus = new_registers\n",
    "        if not isinstance(target, Sequence):\n",
    "            raise ValueError(\n",
    "                f'Target must be a qubit register, got {type(target)}')\n",
    "        if not isinstance(base, int):\n",
    "            raise ValueError(\n",
    "                f'Base must be a classical constant, got {type(base)}')\n",
    "        if not isinstance(modulus, int):\n",
    "            raise ValueError(\n",
    "                f'Modulus must be a classical constant, got {type(modulus)}')\n",
    "        return ModularExp(target, exponent, base, modulus)\n",
    "\n",
    "    def apply(self, *register_values: int) -> int:\n",
    "        assert len(register_values) == 4\n",
    "        target, exponent, base, modulus = register_values\n",
    "        if target >= modulus:\n",
    "            return target\n",
    "        return (target * base**exponent) % modulus\n",
    "\n",
    "    def _circuit_diagram_info_(\n",
    "            self,\n",
    "            args: cirq.CircuitDiagramInfoArgs,\n",
    "    ) -> cirq.CircuitDiagramInfo:\n",
    "        assert args.known_qubits is not None\n",
    "        wire_symbols: List[str] = []\n",
    "        t, e = 0, 0\n",
    "        for qubit in args.known_qubits:\n",
    "            if qubit in self.target:\n",
    "                if t == 0:\n",
    "                    if isinstance(self.exponent, Sequence):\n",
    "                        e_str = 'e'\n",
    "                    else:\n",
    "                        e_str = str(self.exponent)\n",
    "                    wire_symbols.append(\n",
    "                        f'ModularExp(t*{self.base}**{e_str} % {self.modulus})')\n",
    "                else:\n",
    "                    wire_symbols.append('t' + str(t))\n",
    "                t += 1\n",
    "            if isinstance(self.exponent, Sequence) and qubit in self.exponent:\n",
    "                wire_symbols.append('e' + str(e))\n",
    "                e += 1\n",
    "        return cirq.CircuitDiagramInfo(wire_symbols=tuple(wire_symbols))"
   ]
  },
  {
   "cell_type": "code",
   "execution_count": 21,
   "id": "blank-upset",
   "metadata": {
    "execution": {
     "iopub.execute_input": "2021-06-06T06:06:52.982011Z",
     "iopub.status.busy": "2021-06-06T06:06:52.981349Z",
     "iopub.status.idle": "2021-06-06T06:06:52.984757Z",
     "shell.execute_reply": "2021-06-06T06:06:52.985567Z",
     "shell.execute_reply.started": "2021-06-06T06:03:34.622249Z"
    },
    "papermill": {
     "duration": 0.052465,
     "end_time": "2021-06-06T06:06:52.985759",
     "exception": false,
     "start_time": "2021-06-06T06:06:52.933294",
     "status": "completed"
    },
    "tags": []
   },
   "outputs": [
    {
     "name": "stdout",
     "output_type": "stream",
     "text": [
      "To factor n = 15 which has L = 4 bits, we need 3L + 3 = 15 qubits.\n"
     ]
    }
   ],
   "source": [
    "\"\"\"Create the target and exponent registers for phase estimation,\n",
    "and see the number of qubits needed for Shor's algorithm.\n",
    "\"\"\"\n",
    "n = 15\n",
    "L = n.bit_length()\n",
    "\n",
    "# The target register has L qubits.\n",
    "target = cirq.LineQubit.range(L)\n",
    "\n",
    "# The exponent register has 2L + 3 qubits.\n",
    "exponent = cirq.LineQubit.range(L, 3 * L + 3)\n",
    "\n",
    "# Display the total number of qubits to factor this n.\n",
    "print(f\"To factor n = {n} which has L = {L} bits, we need 3L + 3 = {3 * L + 3} qubits.\")"
   ]
  },
  {
   "cell_type": "code",
   "execution_count": 22,
   "id": "deluxe-suggestion",
   "metadata": {
    "execution": {
     "iopub.execute_input": "2021-06-06T06:06:53.075327Z",
     "iopub.status.busy": "2021-06-06T06:06:53.074699Z",
     "iopub.status.idle": "2021-06-06T06:06:53.078003Z",
     "shell.execute_reply": "2021-06-06T06:06:53.078492Z",
     "shell.execute_reply.started": "2021-06-06T06:03:43.470231Z"
    },
    "papermill": {
     "duration": 0.049741,
     "end_time": "2021-06-06T06:06:53.078656",
     "exception": false,
     "start_time": "2021-06-06T06:06:53.028915",
     "status": "completed"
    },
    "tags": []
   },
   "outputs": [],
   "source": [
    "\"\"\"See (part of) the unitary for a modular exponential operation.\"\"\"\n",
    "# Pick some element of the multiplicative group modulo n.\n",
    "x = 5\n",
    "\n",
    "# Display (part of) the unitary. Uncomment if n is small enough.\n",
    "# cirq.unitary(ModularExp(target, exponent, x, n))"
   ]
  },
  {
   "cell_type": "code",
   "execution_count": 23,
   "id": "passive-weather",
   "metadata": {
    "execution": {
     "iopub.execute_input": "2021-06-06T06:06:53.167565Z",
     "iopub.status.busy": "2021-06-06T06:06:53.166924Z",
     "iopub.status.idle": "2021-06-06T06:06:53.173106Z",
     "shell.execute_reply": "2021-06-06T06:06:53.173561Z",
     "shell.execute_reply.started": "2021-06-06T06:03:53.749367Z"
    },
    "papermill": {
     "duration": 0.052199,
     "end_time": "2021-06-06T06:06:53.173754",
     "exception": false,
     "start_time": "2021-06-06T06:06:53.121555",
     "status": "completed"
    },
    "tags": []
   },
   "outputs": [],
   "source": [
    "\"\"\"Function to make the quantum circuit for order finding.\"\"\"\n",
    "def make_order_finding_circuit(x: int, n: int) -> cirq.Circuit:\n",
    "    \"\"\"Returns quantum circuit which computes the order of x modulo n.\n",
    "\n",
    "    The circuit uses Quantum Phase Estimation to compute an eigenvalue of\n",
    "    the unitary\n",
    "\n",
    "        U|y⟩ = |y * x mod n⟩      0 <= y < n\n",
    "        U|y⟩ = |y⟩                n <= y\n",
    "\n",
    "    Args:\n",
    "        x: positive integer whose order modulo n is to be found\n",
    "        n: modulus relative to which the order of x is to be found\n",
    "\n",
    "    Returns:\n",
    "        Quantum circuit for finding the order of x modulo n\n",
    "    \"\"\"\n",
    "    L = n.bit_length()\n",
    "    target = cirq.LineQubit.range(L)\n",
    "    exponent = cirq.LineQubit.range(L, 3 * L + 3)\n",
    "    return cirq.Circuit(\n",
    "        cirq.X(target[L - 1]),\n",
    "        cirq.H.on_each(*exponent),\n",
    "        ModularExp(target, exponent, x, n),\n",
    "        cirq.qft(*exponent, inverse=True),\n",
    "        cirq.measure(*exponent, key='exponent'),\n",
    "    )"
   ]
  },
  {
   "cell_type": "code",
   "execution_count": 24,
   "id": "prescribed-termination",
   "metadata": {
    "execution": {
     "iopub.execute_input": "2021-06-06T06:06:53.264277Z",
     "iopub.status.busy": "2021-06-06T06:06:53.263638Z",
     "iopub.status.idle": "2021-06-06T06:06:53.278510Z",
     "shell.execute_reply": "2021-06-06T06:06:53.279248Z",
     "shell.execute_reply.started": "2021-06-06T06:03:59.116982Z"
    },
    "papermill": {
     "duration": 0.062224,
     "end_time": "2021-06-06T06:06:53.279494",
     "exception": false,
     "start_time": "2021-06-06T06:06:53.217270",
     "status": "completed"
    },
    "tags": []
   },
   "outputs": [
    {
     "name": "stdout",
     "output_type": "stream",
     "text": [
      "0: ────────ModularExp(t*7**e % 15)────────────────────────────\n",
      "           │\n",
      "1: ────────t1─────────────────────────────────────────────────\n",
      "           │\n",
      "2: ────────t2─────────────────────────────────────────────────\n",
      "           │\n",
      "3: ────X───t3─────────────────────────────────────────────────\n",
      "           │\n",
      "4: ────H───e0────────────────────────qft^-1───M('exponent')───\n",
      "           │                         │        │\n",
      "5: ────H───e1────────────────────────#2───────M───────────────\n",
      "           │                         │        │\n",
      "6: ────H───e2────────────────────────#3───────M───────────────\n",
      "           │                         │        │\n",
      "7: ────H───e3────────────────────────#4───────M───────────────\n",
      "           │                         │        │\n",
      "8: ────H───e4────────────────────────#5───────M───────────────\n",
      "           │                         │        │\n",
      "9: ────H───e5────────────────────────#6───────M───────────────\n",
      "           │                         │        │\n",
      "10: ───H───e6────────────────────────#7───────M───────────────\n",
      "           │                         │        │\n",
      "11: ───H───e7────────────────────────#8───────M───────────────\n",
      "           │                         │        │\n",
      "12: ───H───e8────────────────────────#9───────M───────────────\n",
      "           │                         │        │\n",
      "13: ───H───e9────────────────────────#10──────M───────────────\n",
      "           │                         │        │\n",
      "14: ───H───e10───────────────────────#11──────M───────────────\n"
     ]
    }
   ],
   "source": [
    "\"\"\"Example of the quantum circuit for period finding.\"\"\"\n",
    "n = 15\n",
    "x = 7\n",
    "circuit = make_order_finding_circuit(x, n)\n",
    "print(circuit)"
   ]
  },
  {
   "cell_type": "code",
   "execution_count": 25,
   "id": "dynamic-spine",
   "metadata": {
    "execution": {
     "iopub.execute_input": "2021-06-06T06:06:53.370271Z",
     "iopub.status.busy": "2021-06-06T06:06:53.369618Z",
     "iopub.status.idle": "2021-06-06T06:06:53.703950Z",
     "shell.execute_reply": "2021-06-06T06:06:53.703429Z",
     "shell.execute_reply.started": "2021-06-06T06:04:09.347251Z"
    },
    "papermill": {
     "duration": 0.38029,
     "end_time": "2021-06-06T06:06:53.704094",
     "exception": false,
     "start_time": "2021-06-06T06:06:53.323804",
     "status": "completed"
    },
    "tags": []
   },
   "outputs": [
    {
     "name": "stdout",
     "output_type": "stream",
     "text": [
      "Raw measurements:\n",
      "exponent=00100111, 00000000, 00000000, 00000000, 00000000, 00000000, 00000000, 00000000, 00000000\n",
      "\n",
      "Integer in exponent register:\n",
      "   exponent\n",
      "0         0\n",
      "1         0\n",
      "2       256\n",
      "3         0\n",
      "4         0\n",
      "5       256\n",
      "6       256\n",
      "7       256\n"
     ]
    }
   ],
   "source": [
    "\"\"\"Measuring Shor's period finding circuit.\"\"\"\n",
    "circuit = make_order_finding_circuit(x=5, n=6)\n",
    "res = cirq.sample(circuit, repetitions=8)\n",
    "\n",
    "print(\"Raw measurements:\")\n",
    "print(res)\n",
    "\n",
    "print(\"\\nInteger in exponent register:\")\n",
    "print(res.data)"
   ]
  }
 ],
 "metadata": {
  "kernelspec": {
   "display_name": "Python 3",
   "language": "python",
   "name": "python3"
  },
  "language_info": {
   "codemirror_mode": {
    "name": "ipython",
    "version": 3
   },
   "file_extension": ".py",
   "mimetype": "text/x-python",
   "name": "python",
   "nbconvert_exporter": "python",
   "pygments_lexer": "ipython3",
   "version": "3.7.9"
  },
  "papermill": {
   "default_parameters": {},
   "duration": 102.265791,
   "end_time": "2021-06-06T06:06:54.557476",
   "environment_variables": {},
   "exception": null,
   "input_path": "__notebook__.ipynb",
   "output_path": "__notebook__.ipynb",
   "parameters": {},
   "start_time": "2021-06-06T06:05:12.291685",
   "version": "2.3.2"
  }
 },
 "nbformat": 4,
 "nbformat_minor": 5
}
